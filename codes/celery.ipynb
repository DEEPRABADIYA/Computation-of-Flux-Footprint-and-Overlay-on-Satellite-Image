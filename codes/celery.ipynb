{
 "cells": [
  {
   "cell_type": "markdown",
   "metadata": {},
   "source": [
    "# Simple example using Celery field, creates half-hourly footprint image files centered on tower location"
   ]
  },
  {
   "cell_type": "code",
   "execution_count": 6,
   "metadata": {
    "ExecuteTime": {
     "end_time": "2024-03-30T04:47:50.468874500Z",
     "start_time": "2024-03-30T04:47:49.062474600Z"
    }
   },
   "outputs": [],
   "source": [
    "import sys\n",
    "sys.path.append(\"../../scripts/\") \n",
    "\n",
    "import footprint_FFP_climatology as ffp\n",
    "import pandas as pd"
   ]
  },
  {
   "cell_type": "code",
   "execution_count": null,
   "metadata": {},
   "outputs": [],
   "source": []
  },
  {
   "cell_type": "markdown",
   "metadata": {},
   "source": [
    "# Read in data and create datetimes for saving footprints"
   ]
  },
  {
   "cell_type": "code",
   "execution_count": 7,
   "metadata": {
    "ExecuteTime": {
     "end_time": "2024-03-30T04:47:55.006626300Z",
     "start_time": "2024-03-30T04:47:54.965492500Z"
    }
   },
   "outputs": [
    {
     "data": {
      "text/html": [
       "<div>\n",
       "<style scoped>\n",
       "    .dataframe tbody tr th:only-of-type {\n",
       "        vertical-align: middle;\n",
       "    }\n",
       "\n",
       "    .dataframe tbody tr th {\n",
       "        vertical-align: top;\n",
       "    }\n",
       "\n",
       "    .dataframe thead th {\n",
       "        text-align: right;\n",
       "    }\n",
       "</style>\n",
       "<table border=\"1\" class=\"dataframe\">\n",
       "  <thead>\n",
       "    <tr style=\"text-align: right;\">\n",
       "      <th></th>\n",
       "      <th>mm</th>\n",
       "      <th>day</th>\n",
       "      <th>yyyy</th>\n",
       "      <th>HH_UTC</th>\n",
       "      <th>MM</th>\n",
       "      <th>Wind Speed-1 (2.83 m) (m/s)</th>\n",
       "      <th>Wind Speed-2 (5.66 m) (m/s)</th>\n",
       "      <th>Wind Direction (Deg)</th>\n",
       "      <th>z0</th>\n",
       "      <th>ol</th>\n",
       "      <th>ustar</th>\n",
       "      <th>sigmav</th>\n",
       "      <th>Zm_1</th>\n",
       "      <th>Zm_2</th>\n",
       "    </tr>\n",
       "  </thead>\n",
       "  <tbody>\n",
       "    <tr>\n",
       "      <th>0</th>\n",
       "      <td>1</td>\n",
       "      <td>2</td>\n",
       "      <td>2009</td>\n",
       "      <td>17</td>\n",
       "      <td>0</td>\n",
       "      <td>1.35</td>\n",
       "      <td>1.7</td>\n",
       "      <td>359</td>\n",
       "      <td>1.191100e-04</td>\n",
       "      <td>4.9684</td>\n",
       "      <td>0.042488</td>\n",
       "      <td>0.13</td>\n",
       "      <td>2.83</td>\n",
       "      <td>5.66</td>\n",
       "    </tr>\n",
       "    <tr>\n",
       "      <th>1</th>\n",
       "      <td>1</td>\n",
       "      <td>2</td>\n",
       "      <td>2009</td>\n",
       "      <td>17</td>\n",
       "      <td>2</td>\n",
       "      <td>0.35</td>\n",
       "      <td>1</td>\n",
       "      <td>346</td>\n",
       "      <td>1.156200e+02</td>\n",
       "      <td>1.9909</td>\n",
       "      <td>0.032712</td>\n",
       "      <td>0.01</td>\n",
       "      <td>2.83</td>\n",
       "      <td>5.66</td>\n",
       "    </tr>\n",
       "    <tr>\n",
       "      <th>2</th>\n",
       "      <td>1</td>\n",
       "      <td>2</td>\n",
       "      <td>2009</td>\n",
       "      <td>19</td>\n",
       "      <td>5</td>\n",
       "      <td>0.25</td>\n",
       "      <td>0.95</td>\n",
       "      <td>334</td>\n",
       "      <td>2.500000e+08</td>\n",
       "      <td>0.5227</td>\n",
       "      <td>0.009729</td>\n",
       "      <td>0.27</td>\n",
       "      <td>2.83</td>\n",
       "      <td>5.66</td>\n",
       "    </tr>\n",
       "    <tr>\n",
       "      <th>3</th>\n",
       "      <td>1</td>\n",
       "      <td>2</td>\n",
       "      <td>2009</td>\n",
       "      <td>20</td>\n",
       "      <td>0</td>\n",
       "      <td>0.60</td>\n",
       "      <td>1.5</td>\n",
       "      <td>358</td>\n",
       "      <td>1.137300e+01</td>\n",
       "      <td>4.3953</td>\n",
       "      <td>0.096159</td>\n",
       "      <td>0.64</td>\n",
       "      <td>2.83</td>\n",
       "      <td>5.66</td>\n",
       "    </tr>\n",
       "    <tr>\n",
       "      <th>4</th>\n",
       "      <td>1</td>\n",
       "      <td>5</td>\n",
       "      <td>2009</td>\n",
       "      <td>14</td>\n",
       "      <td>0</td>\n",
       "      <td>1.85</td>\n",
       "      <td>2.2</td>\n",
       "      <td>280</td>\n",
       "      <td>6.710600e-02</td>\n",
       "      <td>7.1336</td>\n",
       "      <td>0.107720</td>\n",
       "      <td>0.08</td>\n",
       "      <td>2.83</td>\n",
       "      <td>5.66</td>\n",
       "    </tr>\n",
       "  </tbody>\n",
       "</table>\n",
       "</div>"
      ],
      "text/plain": [
       "   mm  day  yyyy  HH_UTC  MM   Wind Speed-1 (2.83 m) (m/s)  \\\n",
       "0   1    2  2009      17   0                          1.35   \n",
       "1   1    2  2009      17   2                          0.35   \n",
       "2   1    2  2009      19   5                          0.25   \n",
       "3   1    2  2009      20   0                          0.60   \n",
       "4   1    5  2009      14   0                          1.85   \n",
       "\n",
       "   Wind Speed-2 (5.66 m) (m/s)   Wind Direction (Deg)            z0      ol  \\\n",
       "0                          1.7                    359  1.191100e-04  4.9684   \n",
       "1                            1                    346  1.156200e+02  1.9909   \n",
       "2                         0.95                    334  2.500000e+08  0.5227   \n",
       "3                          1.5                    358  1.137300e+01  4.3953   \n",
       "4                          2.2                    280  6.710600e-02  7.1336   \n",
       "\n",
       "      ustar  sigmav  Zm_1  Zm_2  \n",
       "0  0.042488    0.13  2.83  5.66  \n",
       "1  0.032712    0.01  2.83  5.66  \n",
       "2  0.009729    0.27  2.83  5.66  \n",
       "3  0.096159    0.64  2.83  5.66  \n",
       "4  0.107720    0.08  2.83  5.66  "
      ]
     },
     "execution_count": 7,
     "metadata": {},
     "output_type": "execute_result"
    }
   ],
   "source": [
    "df = pd.read_csv('stable.csv')\n",
    "# m = dict(yyyy='year', mm='month', day='day', HH_UTC='hour', MM='minute')\n",
    "# v = df.iloc[:, :5].rename(columns=m)\n",
    "# v['second'] = 0\n",
    "# df.index = pd.to_datetime(v)\n",
    "# df.index.name = 'date'\n",
    "# df.drop(m.keys(), axis= 1, inplace=True)\n",
    "df.head()"
   ]
  },
  {
   "cell_type": "code",
   "execution_count": 8,
   "metadata": {},
   "outputs": [
    {
     "name": "stdout",
     "output_type": "stream",
     "text": [
      "<class 'pandas.core.frame.DataFrame'>\n",
      "RangeIndex: 3459 entries, 0 to 3458\n",
      "Data columns (total 14 columns):\n",
      " #   Column                        Non-Null Count  Dtype  \n",
      "---  ------                        --------------  -----  \n",
      " 0   mm                            3459 non-null   int64  \n",
      " 1   day                           3459 non-null   int64  \n",
      " 2   yyyy                          3459 non-null   int64  \n",
      " 3   HH_UTC                        3459 non-null   int64  \n",
      " 4   MM                            3459 non-null   int64  \n",
      " 5    Wind Speed-1 (2.83 m) (m/s)  3459 non-null   float64\n",
      " 6    Wind Speed-2 (5.66 m) (m/s)  3459 non-null   object \n",
      " 7    Wind Direction (Deg)         3459 non-null   int64  \n",
      " 8   z0                            3459 non-null   float64\n",
      " 9   ol                            3459 non-null   float64\n",
      " 10  ustar                         3459 non-null   float64\n",
      " 11  sigmav                        3459 non-null   float64\n",
      " 12  Zm_1                          3459 non-null   float64\n",
      " 13  Zm_2                          3459 non-null   float64\n",
      "dtypes: float64(7), int64(6), object(1)\n",
      "memory usage: 378.5+ KB\n"
     ]
    }
   ],
   "source": [
    "df.info()"
   ]
  },
  {
   "cell_type": "code",
   "execution_count": 9,
   "metadata": {
    "ExecuteTime": {
     "end_time": "2024-03-30T04:47:56.088344500Z",
     "start_time": "2024-03-30T04:47:56.076010900Z"
    }
   },
   "outputs": [],
   "source": [
    "# not used here but could be used to create georeferenced rasters as in AmeriFlux example\n",
    "lat,long = 36.438847, -121.373706"
   ]
  },
  {
   "cell_type": "markdown",
   "metadata": {},
   "source": [
    "# Calculate footprint images\n",
    "\n",
    "Assumes boundary layer height of 2 km. The footprints in this example are only calculated for hours between 7 AM and 8 PM, this alongwith footprint array domain, resolution, and other options are all easily adjustable using the arguments to the Kljun et al. footprint function."
   ]
  },
  {
   "cell_type": "code",
   "execution_count": 12,
   "metadata": {
    "ExecuteTime": {
     "end_time": "2024-03-30T04:48:41.187012800Z",
     "start_time": "2024-03-30T04:47:57.930426700Z"
    }
   },
   "outputs": [],
   "source": [
    "# domain parameters\n",
    "origin_d = 75.\n",
    "dx = 3.\n",
    "# only doing 2 days half hourly\n",
    "for i, index in enumerate(df.loc['7/2/2009':'7/4/2009'].index):\n",
    "    tmp = df.loc[index,:].astype(float)\n",
    "    r = ffp.ffp_climatology(\n",
    "        zm=tmp.zm - tmp.d,\n",
    "        z0=tmp.z0,\n",
    "        umean=tmp.u_mean,\n",
    "        h=2000,\n",
    "        ol=tmp.L,\n",
    "        sigmav=tmp.sigma_v,\n",
    "        ustar=tmp.u_star,\n",
    "        wind_dir=tmp.wind_dir,\n",
    "        fig=True,\n",
    "        domain=[-origin_d,origin_d,-origin_d,origin_d],\n",
    "        dx=dx,\n",
    "        dy=dx,\n",
    "        crop=True,\n",
    "        verbosity=1\n",
    "    )\n",
    "    fig = r.get('fig')\n",
    "    # fig.savefig('./celery_out/{}.png'.format(str(tmp.name).replace(':','-').replace(' ','_')))\n",
    "        "
   ]
  },
  {
   "cell_type": "markdown",
   "metadata": {},
   "source": [
    "# View an example footprint image"
   ]
  },
  {
   "cell_type": "code",
   "execution_count": 13,
   "metadata": {
    "ExecuteTime": {
     "end_time": "2024-03-30T04:20:09.972765800Z",
     "start_time": "2024-03-30T04:20:08.801083Z"
    }
   },
   "outputs": [
    {
     "ename": "FileNotFoundError",
     "evalue": "[Errno 2] No such file or directory: 'celery_out/2019-07-02_11-00-00.png'",
     "output_type": "error",
     "traceback": [
      "\u001b[1;31m---------------------------------------------------------------------------\u001b[0m",
      "\u001b[1;31mFileNotFoundError\u001b[0m                         Traceback (most recent call last)",
      "Cell \u001b[1;32mIn[13], line 2\u001b[0m\n\u001b[0;32m      1\u001b[0m \u001b[38;5;28;01mfrom\u001b[39;00m \u001b[38;5;21;01mIPython\u001b[39;00m\u001b[38;5;21;01m.\u001b[39;00m\u001b[38;5;21;01mdisplay\u001b[39;00m \u001b[38;5;28;01mimport\u001b[39;00m Image\n\u001b[1;32m----> 2\u001b[0m \u001b[43mImage\u001b[49m\u001b[43m(\u001b[49m\u001b[43mfilename\u001b[49m\u001b[38;5;241;43m=\u001b[39;49m\u001b[38;5;124;43m'\u001b[39;49m\u001b[38;5;124;43mcelery\u001b[39;49m\u001b[38;5;124;43m'\u001b[39;49m\n\u001b[0;32m      3\u001b[0m \u001b[43m               \u001b[49m\u001b[38;5;124;43m'\u001b[39;49m\u001b[38;5;124;43m_out/2019-07-02_11-00-00.png\u001b[39;49m\u001b[38;5;124;43m'\u001b[39;49m\u001b[43m)\u001b[49m \n",
      "File \u001b[1;32mc:\\Users\\Dell\\AppData\\Local\\Programs\\Python\\Python311\\Lib\\site-packages\\IPython\\core\\display.py:970\u001b[0m, in \u001b[0;36mImage.__init__\u001b[1;34m(self, data, url, filename, format, embed, width, height, retina, unconfined, metadata, alt)\u001b[0m\n\u001b[0;32m    968\u001b[0m \u001b[38;5;28mself\u001b[39m\u001b[38;5;241m.\u001b[39munconfined \u001b[38;5;241m=\u001b[39m unconfined\n\u001b[0;32m    969\u001b[0m \u001b[38;5;28mself\u001b[39m\u001b[38;5;241m.\u001b[39malt \u001b[38;5;241m=\u001b[39m alt\n\u001b[1;32m--> 970\u001b[0m \u001b[38;5;28;43msuper\u001b[39;49m\u001b[43m(\u001b[49m\u001b[43mImage\u001b[49m\u001b[43m,\u001b[49m\u001b[43m \u001b[49m\u001b[38;5;28;43mself\u001b[39;49m\u001b[43m)\u001b[49m\u001b[38;5;241;43m.\u001b[39;49m\u001b[38;5;21;43m__init__\u001b[39;49m\u001b[43m(\u001b[49m\u001b[43mdata\u001b[49m\u001b[38;5;241;43m=\u001b[39;49m\u001b[43mdata\u001b[49m\u001b[43m,\u001b[49m\u001b[43m \u001b[49m\u001b[43murl\u001b[49m\u001b[38;5;241;43m=\u001b[39;49m\u001b[43murl\u001b[49m\u001b[43m,\u001b[49m\u001b[43m \u001b[49m\u001b[43mfilename\u001b[49m\u001b[38;5;241;43m=\u001b[39;49m\u001b[43mfilename\u001b[49m\u001b[43m,\u001b[49m\n\u001b[0;32m    971\u001b[0m \u001b[43m        \u001b[49m\u001b[43mmetadata\u001b[49m\u001b[38;5;241;43m=\u001b[39;49m\u001b[43mmetadata\u001b[49m\u001b[43m)\u001b[49m\n\u001b[0;32m    973\u001b[0m \u001b[38;5;28;01mif\u001b[39;00m \u001b[38;5;28mself\u001b[39m\u001b[38;5;241m.\u001b[39mwidth \u001b[38;5;129;01mis\u001b[39;00m \u001b[38;5;28;01mNone\u001b[39;00m \u001b[38;5;129;01mand\u001b[39;00m \u001b[38;5;28mself\u001b[39m\u001b[38;5;241m.\u001b[39mmetadata\u001b[38;5;241m.\u001b[39mget(\u001b[38;5;124m'\u001b[39m\u001b[38;5;124mwidth\u001b[39m\u001b[38;5;124m'\u001b[39m, {}):\n\u001b[0;32m    974\u001b[0m     \u001b[38;5;28mself\u001b[39m\u001b[38;5;241m.\u001b[39mwidth \u001b[38;5;241m=\u001b[39m metadata[\u001b[38;5;124m'\u001b[39m\u001b[38;5;124mwidth\u001b[39m\u001b[38;5;124m'\u001b[39m]\n",
      "File \u001b[1;32mc:\\Users\\Dell\\AppData\\Local\\Programs\\Python\\Python311\\Lib\\site-packages\\IPython\\core\\display.py:327\u001b[0m, in \u001b[0;36mDisplayObject.__init__\u001b[1;34m(self, data, url, filename, metadata)\u001b[0m\n\u001b[0;32m    324\u001b[0m \u001b[38;5;28;01melif\u001b[39;00m \u001b[38;5;28mself\u001b[39m\u001b[38;5;241m.\u001b[39mmetadata \u001b[38;5;129;01mis\u001b[39;00m \u001b[38;5;28;01mNone\u001b[39;00m:\n\u001b[0;32m    325\u001b[0m     \u001b[38;5;28mself\u001b[39m\u001b[38;5;241m.\u001b[39mmetadata \u001b[38;5;241m=\u001b[39m {}\n\u001b[1;32m--> 327\u001b[0m \u001b[38;5;28;43mself\u001b[39;49m\u001b[38;5;241;43m.\u001b[39;49m\u001b[43mreload\u001b[49m\u001b[43m(\u001b[49m\u001b[43m)\u001b[49m\n\u001b[0;32m    328\u001b[0m \u001b[38;5;28mself\u001b[39m\u001b[38;5;241m.\u001b[39m_check_data()\n",
      "File \u001b[1;32mc:\\Users\\Dell\\AppData\\Local\\Programs\\Python\\Python311\\Lib\\site-packages\\IPython\\core\\display.py:1005\u001b[0m, in \u001b[0;36mImage.reload\u001b[1;34m(self)\u001b[0m\n\u001b[0;32m   1003\u001b[0m \u001b[38;5;250m\u001b[39m\u001b[38;5;124;03m\"\"\"Reload the raw data from file or URL.\"\"\"\u001b[39;00m\n\u001b[0;32m   1004\u001b[0m \u001b[38;5;28;01mif\u001b[39;00m \u001b[38;5;28mself\u001b[39m\u001b[38;5;241m.\u001b[39membed:\n\u001b[1;32m-> 1005\u001b[0m     \u001b[38;5;28;43msuper\u001b[39;49m\u001b[43m(\u001b[49m\u001b[43mImage\u001b[49m\u001b[43m,\u001b[49m\u001b[38;5;28;43mself\u001b[39;49m\u001b[43m)\u001b[49m\u001b[38;5;241;43m.\u001b[39;49m\u001b[43mreload\u001b[49m\u001b[43m(\u001b[49m\u001b[43m)\u001b[49m\n\u001b[0;32m   1006\u001b[0m     \u001b[38;5;28;01mif\u001b[39;00m \u001b[38;5;28mself\u001b[39m\u001b[38;5;241m.\u001b[39mretina:\n\u001b[0;32m   1007\u001b[0m         \u001b[38;5;28mself\u001b[39m\u001b[38;5;241m.\u001b[39m_retina_shape()\n",
      "File \u001b[1;32mc:\\Users\\Dell\\AppData\\Local\\Programs\\Python\\Python311\\Lib\\site-packages\\IPython\\core\\display.py:353\u001b[0m, in \u001b[0;36mDisplayObject.reload\u001b[1;34m(self)\u001b[0m\n\u001b[0;32m    351\u001b[0m \u001b[38;5;28;01mif\u001b[39;00m \u001b[38;5;28mself\u001b[39m\u001b[38;5;241m.\u001b[39mfilename \u001b[38;5;129;01mis\u001b[39;00m \u001b[38;5;129;01mnot\u001b[39;00m \u001b[38;5;28;01mNone\u001b[39;00m:\n\u001b[0;32m    352\u001b[0m     encoding \u001b[38;5;241m=\u001b[39m \u001b[38;5;28;01mNone\u001b[39;00m \u001b[38;5;28;01mif\u001b[39;00m \u001b[38;5;124m\"\u001b[39m\u001b[38;5;124mb\u001b[39m\u001b[38;5;124m\"\u001b[39m \u001b[38;5;129;01min\u001b[39;00m \u001b[38;5;28mself\u001b[39m\u001b[38;5;241m.\u001b[39m_read_flags \u001b[38;5;28;01melse\u001b[39;00m \u001b[38;5;124m\"\u001b[39m\u001b[38;5;124mutf-8\u001b[39m\u001b[38;5;124m\"\u001b[39m\n\u001b[1;32m--> 353\u001b[0m     \u001b[38;5;28;01mwith\u001b[39;00m \u001b[38;5;28;43mopen\u001b[39;49m\u001b[43m(\u001b[49m\u001b[38;5;28;43mself\u001b[39;49m\u001b[38;5;241;43m.\u001b[39;49m\u001b[43mfilename\u001b[49m\u001b[43m,\u001b[49m\u001b[43m \u001b[49m\u001b[38;5;28;43mself\u001b[39;49m\u001b[38;5;241;43m.\u001b[39;49m\u001b[43m_read_flags\u001b[49m\u001b[43m,\u001b[49m\u001b[43m \u001b[49m\u001b[43mencoding\u001b[49m\u001b[38;5;241;43m=\u001b[39;49m\u001b[43mencoding\u001b[49m\u001b[43m)\u001b[49m \u001b[38;5;28;01mas\u001b[39;00m f:\n\u001b[0;32m    354\u001b[0m         \u001b[38;5;28mself\u001b[39m\u001b[38;5;241m.\u001b[39mdata \u001b[38;5;241m=\u001b[39m f\u001b[38;5;241m.\u001b[39mread()\n\u001b[0;32m    355\u001b[0m \u001b[38;5;28;01melif\u001b[39;00m \u001b[38;5;28mself\u001b[39m\u001b[38;5;241m.\u001b[39murl \u001b[38;5;129;01mis\u001b[39;00m \u001b[38;5;129;01mnot\u001b[39;00m \u001b[38;5;28;01mNone\u001b[39;00m:\n\u001b[0;32m    356\u001b[0m     \u001b[38;5;66;03m# Deferred import\u001b[39;00m\n",
      "\u001b[1;31mFileNotFoundError\u001b[0m: [Errno 2] No such file or directory: 'celery_out/2019-07-02_11-00-00.png'"
     ]
    }
   ],
   "source": [
    "from IPython.display import Image\n",
    "Image(filename='celery'\n",
    "               '_out/2019-07-02_11-00-00.png') "
   ]
  }
 ],
 "metadata": {
  "kernelspec": {
   "display_name": "Python 3",
   "language": "python",
   "name": "python3"
  },
  "language_info": {
   "codemirror_mode": {
    "name": "ipython",
    "version": 3
   },
   "file_extension": ".py",
   "mimetype": "text/x-python",
   "name": "python",
   "nbconvert_exporter": "python",
   "pygments_lexer": "ipython3",
   "version": "3.11.5"
  }
 },
 "nbformat": 4,
 "nbformat_minor": 4
}
